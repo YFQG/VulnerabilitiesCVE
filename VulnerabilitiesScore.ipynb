{
 "cells": [
  {
   "cell_type": "code",
   "execution_count": 1,
   "id": "11081829-462b-449f-b0b9-0e3c551d89e1",
   "metadata": {},
   "outputs": [],
   "source": [
    "import json, requests\n",
    "from datetime import datetime"
   ]
  },
  {
   "cell_type": "code",
   "execution_count": 5,
   "id": "975de665-1e96-4e80-ad99-c3be175c777f",
   "metadata": {
    "scrolled": true
   },
   "outputs": [
    {
     "name": "stdout",
     "output_type": "stream",
     "text": [
      "{\n",
      "    \"CVE-2010-2730\": {\n",
      "        \"verified\": false,\n",
      "        \"ranking_epss\": 0.96712,\n",
      "        \"cvss\": 9.3,\n",
      "        \"references\": [\n",
      "            \"https://docs.microsoft.com/en-us/security-updates/securitybulletins/2010/ms10-065\",\n",
      "            \"https://oval.cisecurity.org/repository/search/definition/oval%3Aorg.mitre.oval%3Adef%3A6933\"\n",
      "        ],\n",
      "        \"summary\": \"Buffer overflow in Microsoft Internet Information Services (IIS) 7.5, when FastCGI is enabled, allows remote attackers to execute arbitrary code via crafted headers in a request, aka \\\"Request Header Buffer Overflow Vulnerability.\\\"\",\n",
      "        \"epss\": 0.28264\n",
      "    },\n",
      "    \"CVE-2010-3972\": {\n",
      "        \"verified\": false,\n",
      "        \"ranking_epss\": 0.99679,\n",
      "        \"cvss\": 10.0,\n",
      "        \"references\": [\n",
      "            \"http://blogs.technet.com/b/srd/archive/2011/01/07/assessing-the-risk-of-public-issues-currently-being-tracked-by-the-msrc.aspx\",\n",
      "            \"http://secunia.com/advisories/42713\",\n",
      "            \"http://www.exploit-db.com/exploits/15803\",\n",
      "            \"http://www.kb.cert.org/vuls/id/842372\",\n",
      "            \"http://www.securityfocus.com/bid/45542\",\n",
      "            \"http://www.securitytracker.com/id?1024921\",\n",
      "            \"http://www.vupen.com/english/advisories/2010/3305\",\n",
      "            \"https://docs.microsoft.com/en-us/security-updates/securitybulletins/2011/ms11-004\",\n",
      "            \"https://exchange.xforce.ibmcloud.com/vulnerabilities/64248\",\n",
      "            \"https://oval.cisecurity.org/repository/search/definition/oval%3Aorg.mitre.oval%3Adef%3A12370\"\n",
      "        ],\n",
      "        \"summary\": \"Heap-based buffer overflow in the TELNET_STREAM_CONTEXT::OnSendData function in ftpsvc.dll in Microsoft FTP Service 7.0 and 7.5 for Internet Information Services (IIS) 7.0, and IIS 7.5, allows remote attackers to execute arbitrary code or cause a denial of service (daemon crash) via a crafted FTP command, aka \\\"IIS FTP Service Heap Buffer Overrun Vulnerability.\\\" NOTE: some of these details are obtained from third party information.\",\n",
      "        \"epss\": 0.96872\n",
      "    },\n",
      "    \"CVE-2010-1899\": {\n",
      "        \"verified\": false,\n",
      "        \"ranking_epss\": 0.99687,\n",
      "        \"cvss\": 4.3,\n",
      "        \"references\": [\n",
      "            \"https://docs.microsoft.com/en-us/security-updates/securitybulletins/2010/ms10-065\",\n",
      "            \"https://oval.cisecurity.org/repository/search/definition/oval%3Aorg.mitre.oval%3Adef%3A7127\"\n",
      "        ],\n",
      "        \"summary\": \"Stack consumption vulnerability in the ASP implementation in Microsoft Internet Information Services (IIS) 5.1, 6.0, 7.0, and 7.5 allows remote attackers to cause a denial of service (daemon outage) via a crafted request, related to asp.dll, aka \\\"IIS Repeated Parameter Request Denial of Service Vulnerability.\\\"\",\n",
      "        \"epss\": 0.969\n",
      "    },\n",
      "    \"CVE-2019-0708\": {\n",
      "        \"verified\": true,\n",
      "        \"references\": [\n",
      "            \"http://packetstormsecurity.com/files/153133/Microsoft-Windows-Remote-Desktop-BlueKeep-Denial-Of-Service.htmlhttp://www.huawei.com/en/psirt/security-advisories/huawei-sa-20190529-01-windows-en\",\n",
      "            \"http://www.huawei.com/en/psirt/security-notices/huawei-sn-20190515-01-windows-en\",\n",
      "            \"https://cert-portal.siemens.com/productcert/pdf/ssa-166360.pdf\",\n",
      "            \"https://cert-portal.siemens.com/productcert/pdf/ssa-406175.pdf\",\n",
      "            \"https://cert-portal.siemens.com/productcert/pdf/ssa-433987.pdf\",\n",
      "            \"https://cert-portal.siemens.com/productcert/pdf/ssa-616199.pdf\",\n",
      "            \"https://cert-portal.siemens.com/productcert/pdf/ssa-832947.pdf\",\n",
      "            \"https://cert-portal.siemens.com/productcert/pdf/ssa-932041.pdf\",\n",
      "            \"https://portal.msrc.microsoft.com/en-US/security-guidance/advisory/CVE-2019-0708\"\n",
      "        ],\n",
      "        \"cvss\": 10.0,\n",
      "        \"summary\": \"A remote code execution vulnerability exists in Remote Desktop Services formerly known as Terminal Services when an unauthenticated attacker connects to the target system using RDP and sends specially crafted requests, aka 'Remote Desktop Services Remote Code Execution Vulnerability'.\"\n",
      "    }\n",
      "}\n"
     ]
    }
   ],
   "source": [
    "# Impacto, sistemas afectados o versiones y remediacion\n",
    "new_ip=\"75.58.232.10\"\n",
    "headers = {}\n",
    "data = requests.get(f\"https://api.shodan.io/shodan/host/{new_ip}?key=a1RpAyRaTw7r2WGg6FpxVATNhwnrjynp\", headers=headers)\n",
    "data = data.json()\n",
    "\n",
    "ipVulnsInfo = {\n",
    "    \"ip\": f\"{new_ip}_{datetime.now().strftime('%Y-%m-%d %H:%M:%S')}\",\n",
    "    \"affects\": {}\n",
    "}\n",
    "# Crear un diccionario para almacenar los CVEs\n",
    "all_cves = {}\n",
    "\n",
    "# Recorrer los elementos en data[\"data\"]\n",
    "for item in data[\"data\"]:\n",
    "    # Verificar si existe la clave \"vulns\"\n",
    "    if \"vulns\" in item:\n",
    "        # Agregar los CVEs al diccionario\n",
    "        all_cves.update(item[\"vulns\"])\n",
    "print(json.dumps(all_cves, indent = 4))"
   ]
  },
  {
   "cell_type": "code",
   "execution_count": null,
   "id": "fc8bd8a9-8aad-4b35-8ef3-4df48e090b01",
   "metadata": {},
   "outputs": [],
   "source": [
    "#Traer CCVS y summary"
   ]
  },
  {
   "cell_type": "code",
   "execution_count": null,
   "id": "6f4138f7-a8d3-4f61-9084-a479c1c15a14",
   "metadata": {},
   "outputs": [],
   "source": [
    "def createCVEinfo(cve):\n",
    "    headers = {}\n",
    "    data = requests.get(f\"https://cveawg.mitre.org/api/cve/{str(cve)}\", headers=headers)\n",
    "    dataCVE = data.json()\n",
    "    return dataCVE[\"containers\"][\"cna\"][\"affected\"]        \n",
    "\n",
    "for i in all_cves:\n",
    "    print(\"ip: \" + i)\n",
    "    ipVulnsInfo[\"vulns\"][i] = createCVEinfo(i)"
   ]
  },
  {
   "cell_type": "code",
   "execution_count": 28,
   "id": "bbd53a99-4353-4663-960f-f2bb1ce77ddf",
   "metadata": {},
   "outputs": [],
   "source": [
    "def extract_cvss(json_data):\n",
    "    vulns = {}\n",
    "    for cve, details in json_data.items():\n",
    "        vulns[cve] = {\"cvss\": details[\"cvss\"]}\n",
    "    return {\"vulns\": vulns}"
   ]
  },
  {
   "cell_type": "code",
   "execution_count": null,
   "id": "a7427336-7da6-4406-b6f6-0021c57c4a49",
   "metadata": {},
   "outputs": [],
   "source": []
  }
 ],
 "metadata": {
  "kernelspec": {
   "display_name": "Python 3 (ipykernel)",
   "language": "python",
   "name": "python3"
  },
  "language_info": {
   "codemirror_mode": {
    "name": "ipython",
    "version": 3
   },
   "file_extension": ".py",
   "mimetype": "text/x-python",
   "name": "python",
   "nbconvert_exporter": "python",
   "pygments_lexer": "ipython3",
   "version": "3.12.2"
  }
 },
 "nbformat": 4,
 "nbformat_minor": 5
}
